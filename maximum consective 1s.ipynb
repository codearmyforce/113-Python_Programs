{
 "cells": [
  {
   "cell_type": "markdown",
   "metadata": {},
   "source": [
    "# maximum consective 1s "
   ]
  },
  {
   "cell_type": "markdown",
   "metadata": {},
   "source": [
    "### This section is accepting list from user"
   ]
  },
  {
   "cell_type": "code",
   "execution_count": 12,
   "metadata": {},
   "outputs": [
    {
     "name": "stdout",
     "output_type": "stream",
     "text": [
      "enter the integer:1\n",
      "enter the integer:1\n",
      "enter the integer:0\n",
      "enter the integer:0\n",
      "enter the integer:1\n",
      "enter the integer:1\n",
      "enter the integer:1\n",
      "enter the integer:1\n",
      "enter the integer:0\n",
      "[1, 1, 0, 0, 1, 1, 1, 1, 0]\n"
     ]
    }
   ],
   "source": [
    "user_list=[]\n",
    "index=1\n",
    "while index<10:\n",
    "    element=int(input('enter the integer:'))\n",
    "    user_list.append(element)\n",
    "    index +=1\n",
    "print(user_list)"
   ]
  },
  {
   "cell_type": "code",
   "execution_count": 13,
   "metadata": {},
   "outputs": [
    {
     "name": "stdout",
     "output_type": "stream",
     "text": [
      "4\n"
     ]
    }
   ],
   "source": [
    "count=0\n",
    "for i in range(len(user_list)):\n",
    "    if user_list[i]==1:\n",
    "        count+=1\n",
    "        a=count\n",
    "    else:\n",
    "        count=0\n",
    "print(a)"
   ]
  }
 ],
 "metadata": {
  "kernelspec": {
   "display_name": "Python 3",
   "language": "python",
   "name": "python3"
  },
  "language_info": {
   "codemirror_mode": {
    "name": "ipython",
    "version": 3
   },
   "file_extension": ".py",
   "mimetype": "text/x-python",
   "name": "python",
   "nbconvert_exporter": "python",
   "pygments_lexer": "ipython3",
   "version": "3.7.3"
  }
 },
 "nbformat": 4,
 "nbformat_minor": 2
}
