{
 "cells": [
  {
   "cell_type": "markdown",
   "metadata": {},
   "source": [
    "# Remove 10's"
   ]
  },
  {
   "cell_type": "markdown",
   "metadata": {},
   "source": [
    "Write a program to read an integer list and remove all 10s from the list, shift the other elements towards left and fill the trailing empty positions by 0 so that the modified list is of the same length of the given list. \n",
    "\n",
    "Include a class UserMainCode with a static method removeTens which accepts the number of elements and an integer list. The return type (Integer List) should return the final list. Create a Class Main which would be used to read the number of elements and the input list, and call the static method present in UserMainCode.\n",
    "\n",
    "#Input and Output Format:\n",
    "Input consists of n+1 integers, where n corresponds to size of the list followed by n elements of the list.\n",
    "Output consists of an integer list (the final list).\n",
    "Refer sample output for formatting specifications.\n",
    "\n",
    "Sample Input :\n",
    "5\n",
    "1\n",
    "10\n",
    "20\n",
    "10\n",
    "2\n",
    "Sample Output :\n",
    "5\n",
    "1\n",
    "20\n",
    "2\n",
    "0\n",
    "0\n",
    "\n"
   ]
  },
  {
   "cell_type": "code",
   "execution_count": 1,
   "metadata": {},
   "outputs": [
    {
     "name": "stdout",
     "output_type": "stream",
     "text": [
      "Element of list at Index 0 is:5\n",
      "Element of list at Index 1 is:1\n",
      "Element of list at Index 2 is:10\n",
      "Element of list at Index 3 is:20\n",
      "Element of list at Index 4 is:10\n",
      "Element of list at Index 5 is:2\n",
      "[5, 1, 10, 20, 10, 2]\n"
     ]
    }
   ],
   "source": [
    "user_list=[]\n",
    "index=0\n",
    "while index<6:\n",
    "    element=int(input(\"Element of list at Index %d is:\" %index))\n",
    "    user_list.append(element)\n",
    "    index+=1\n",
    "print(user_list)\n"
   ]
  },
  {
   "cell_type": "code",
   "execution_count": 3,
   "metadata": {},
   "outputs": [
    {
     "name": "stdout",
     "output_type": "stream",
     "text": [
      "[5, 1, 20, 2, 0, 0]\n"
     ]
    }
   ],
   "source": [
    "for i in range(len(user_list)):\n",
    "    if user_list[i]==10:\n",
    "        user_list.remove(10)\n",
    "        user_list.append(0)\n",
    "\n",
    "print(user_list)"
   ]
  },
  {
   "cell_type": "code",
   "execution_count": null,
   "metadata": {},
   "outputs": [],
   "source": []
  }
 ],
 "metadata": {
  "kernelspec": {
   "display_name": "Python 3",
   "language": "python",
   "name": "python3"
  },
  "language_info": {
   "codemirror_mode": {
    "name": "ipython",
    "version": 3
   },
   "file_extension": ".py",
   "mimetype": "text/x-python",
   "name": "python",
   "nbconvert_exporter": "python",
   "pygments_lexer": "ipython3",
   "version": "3.7.3"
  }
 },
 "nbformat": 4,
 "nbformat_minor": 2
}
