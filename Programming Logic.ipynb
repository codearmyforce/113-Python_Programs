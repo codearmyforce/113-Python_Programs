{
 "cells": [
  {
   "cell_type": "markdown",
   "metadata": {},
   "source": [
    "# Programming Logic"
   ]
  },
  {
   "cell_type": "markdown",
   "metadata": {},
   "source": [
    "Write a Program that accepts three integer values (a,b,c) and returns their sum. However, if one of the values is 13 then it does not count towards the sum and the next number also does not count. So for example, if b is 13, then both b and c do not count.\n",
    "\n",
    "Include a class UserMainCode with a static method getLuckySum which accepts three integers. The return type is integer representing the sum.\n",
    "\n",
    "Create a Class Main which would be used to accept the input integers and call the static method present in UserMainCode.\n",
    "\n",
    "Input and Output Format:Input consists of three integers.Output consists of a single integer.\n",
    "\n",
    "Refer sample output for formatting specifications.\n",
    "\n",
    "Sample Input 1:\n",
    "1\n",
    "2\n",
    "3\n",
    "Sample Output 1:\n",
    "6\n",
    "Sample Input 2:\n",
    "1\n",
    "2\n",
    "13\n",
    "Sample Output 2:\n",
    "3\n",
    "Sample Input 3:\n",
    "13\n",
    "3\n",
    "8\n",
    "Sample Output 3:\n",
    "8\n"
   ]
  },
  {
   "cell_type": "code",
   "execution_count": 11,
   "metadata": {},
   "outputs": [
    {
     "name": "stdout",
     "output_type": "stream",
     "text": [
      "enter the value of a :13\n",
      "enter the value of b :3\n",
      "enter the value of c :8\n",
      "8\n"
     ]
    }
   ],
   "source": [
    "a=int(input(\"enter the value of a :\"))\n",
    "b=int(input(\"enter the value of b :\"))\n",
    "c=int(input(\"enter the value of c :\"))\n",
    "\n",
    "if (a !=13) and (b !=13) and (c !=13):\n",
    "    print((a+b)+c)\n",
    "elif (a !=13) and (b !=13) and c==13:\n",
    "    print(a+b)\n",
    "elif (a==13) and (b !=13) and (c !=13):\n",
    "    print(c)\n"
   ]
  },
  {
   "cell_type": "code",
   "execution_count": null,
   "metadata": {},
   "outputs": [],
   "source": []
  }
 ],
 "metadata": {
  "kernelspec": {
   "display_name": "Python 3",
   "language": "python",
   "name": "python3"
  },
  "language_info": {
   "codemirror_mode": {
    "name": "ipython",
    "version": 3
   },
   "file_extension": ".py",
   "mimetype": "text/x-python",
   "name": "python",
   "nbconvert_exporter": "python",
   "pygments_lexer": "ipython3",
   "version": "3.7.3"
  }
 },
 "nbformat": 4,
 "nbformat_minor": 2
}
